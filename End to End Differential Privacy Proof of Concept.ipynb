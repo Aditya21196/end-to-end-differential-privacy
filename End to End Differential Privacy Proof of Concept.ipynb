{
 "cells": [
  {
   "cell_type": "code",
   "execution_count": 1,
   "id": "aca125b9",
   "metadata": {},
   "outputs": [],
   "source": [
    "import numpy as np\n",
    "import pandas as pd\n",
    "from collections import Counter\n",
    "from collections import defaultdict\n",
    "from typing import List"
   ]
  },
  {
   "cell_type": "code",
   "execution_count": 2,
   "id": "eea2d5fa",
   "metadata": {},
   "outputs": [],
   "source": [
    "from collections import namedtuple\n",
    "\n",
    "QUERY_TYPES_LIST = ['MAX','MIN','MEAN','COUNT','COUNT_PER_ITEM']\n",
    "query_type_named_tuple = namedtuple('QueryType',QUERY_TYPES_LIST)\n",
    "\n",
    "QUERY_TYPES = query_type_named_tuple(*range(len(QUERY_TYPES_LIST)))\n",
    "\n",
    "condition_type_named_tuple = namedtuple('ConditionType',[\n",
    "    'LESS_THAN','GREATER_THAN',\n",
    "    'LESS_THAN_EQUAL','GREATER_THAN_EQUAL',\n",
    "    'EQUAL','NOT_EQUAL'\n",
    "])\n",
    "\n",
    "CONDITION_TYPES = condition_type_named_tuple(*range(6))\n",
    "\n",
    "operand_type_named_tuple = namedtuple('OperandType',['COLUMN','SCALER_NUMBER'])\n",
    "\n",
    "OPERAND_TYPES = operand_type_named_tuple(*range(2))"
   ]
  },
  {
   "cell_type": "code",
   "execution_count": 3,
   "id": "b572e0de",
   "metadata": {},
   "outputs": [],
   "source": [
    "class Operand:\n",
    "    def __init__(self,operand_type,value):\n",
    "        self.operand_type = operand_type\n",
    "        self.value = value\n",
    "    \n",
    "    def evaluate(self, dataset):\n",
    "        if self.operand_type == OPERAND_TYPES.COLUMN:\n",
    "            return dataset.loc[self.value]\n",
    "        else:\n",
    "            return self.value\n",
    "    \n",
    "class ComposedOperand(Operand):\n",
    "    def __init__(self,left_operand: Operand,operation,right_operand: Operand):\n",
    "        self.left_operand = left_operand\n",
    "        self.right_operand = right_operand\n",
    "        self.operation = operation\n",
    "    \n",
    "    def evaluate():\n",
    "        # evaluate composed operand\n",
    "        return self.operation(left_operand.evaluate(),right_operand.evaluate())\n",
    "        \n",
    "class Condition:\n",
    "    def __init__(self,left_operand: Operand,condition_type,right_operand: Operand):\n",
    "        self.left_operand = left_operand\n",
    "        self.right_operand = right_operand\n",
    "        self.condition_type = condition_type\n",
    "    \n",
    "    def apply(self, dataset):\n",
    "        # TODO: filter dataset based on condition\n",
    "        return dataset\n",
    "\n",
    "class Query:\n",
    "    def __init__(self,query_type,query_target,conditions=[]):\n",
    "        self.query_type = query_type\n",
    "        self.conditions = conditions\n",
    "        self.query_target = query_target\n",
    "        \n",
    "    def __repr__(self):\n",
    "        return f\"\"\"\n",
    "========\n",
    "query over {self.query_target}\n",
    "query type: {self.query_type}\n",
    "number of conditions: {len(self.conditions)}\n",
    "========\n",
    "        \"\"\"\n",
    "        \n",
    "    def apply(self,dataset):\n",
    "        # TODO: apply conditions\n",
    "        for condition in self.conditions:\n",
    "            dataset = dataset.apply(condition)\n",
    "        \n",
    "        if self.query_type == QUERY_TYPES.MEAN:\n",
    "            return np.mean(dataset[self.query_target])\n",
    "        elif self.query_type == QUERY_TYPES.COUNT:\n",
    "            return len(dataset[self.query_target])\n",
    "    \n",
    "        \n"
   ]
  },
  {
   "cell_type": "code",
   "execution_count": 4,
   "id": "71aa10a4",
   "metadata": {},
   "outputs": [],
   "source": [
    "def simple_budget_allocate(queries: List[Query],total_budget):\n",
    "    return [total_budget/len(queries)]*len(queries)\n",
    "\n",
    "def genetic_alogirthm_budget_allocate(queries: List[Query],dataset,total_budget):\n",
    "    pass # use GA hueristic to find the best budget allocation"
   ]
  },
  {
   "cell_type": "code",
   "execution_count": 5,
   "id": "a4304136",
   "metadata": {},
   "outputs": [],
   "source": [
    "def apply_laplacian(queries,dataset, budget_allocated):\n",
    "    results,original_results = [],[]\n",
    "    for query,budget in zip(queries,budget_allocated):\n",
    "        # calculate L1 sensitivity\n",
    "        l1_sense = None\n",
    "        if query.query_type == QUERY_TYPES.COUNT:\n",
    "            l1_sense = 1\n",
    "        elif query.query_type == QUERY_TYPES.MEAN:\n",
    "            l1_sense = (max(dataset[query.query_target]) - min(dataset[query.query_target]))/len(dataset[query.query_target])\n",
    "        # TODO: handle other query types as well\n",
    "        \n",
    "        # handle multiple output queries\n",
    "        noise = np.random.laplace(0,l1_sense/budget)\n",
    "        result = query.apply(dataset)\n",
    "        results.append(result + noise)\n",
    "        original_results.append(result)\n",
    "    return results,original_results\n",
    "            \n",
    "        "
   ]
  },
  {
   "cell_type": "code",
   "execution_count": 6,
   "id": "09a5de61",
   "metadata": {},
   "outputs": [],
   "source": [
    "dataset = pd.read_csv('anonymized_device_flow.csv') # decide database"
   ]
  },
  {
   "cell_type": "code",
   "execution_count": 7,
   "id": "ea22ab62",
   "metadata": {},
   "outputs": [],
   "source": [
    "queries = [] # start deciding queries\n",
    "total_budget = 10 # total privacy budget"
   ]
  },
  {
   "cell_type": "code",
   "execution_count": 8,
   "id": "9ffcff9a",
   "metadata": {},
   "outputs": [],
   "source": [
    "product_column_count_query = Query(QUERY_TYPES.COUNT,'product_name') # query 1\n",
    "device_column_count_query = Query(QUERY_TYPES.COUNT,'device_id') # query 1\n",
    "\n",
    "# accumulate queries being considered\n",
    "queries.append(product_column_count_query) \n",
    "queries.append(device_column_count_query)"
   ]
  },
  {
   "cell_type": "code",
   "execution_count": 11,
   "id": "7ed320f1",
   "metadata": {},
   "outputs": [],
   "source": [
    "budget_allocated = simple_budget_allocate(queries,total_budget) # allocate budget"
   ]
  },
  {
   "cell_type": "code",
   "execution_count": 12,
   "id": "f48f7e6a",
   "metadata": {},
   "outputs": [],
   "source": [
    "output,original_output = apply_laplacian(queries,dataset, budget_allocated) # apply DP!"
   ]
  },
  {
   "cell_type": "code",
   "execution_count": 13,
   "id": "a155c7d5",
   "metadata": {},
   "outputs": [
    {
     "name": "stdout",
     "output_type": "stream",
     "text": [
      "for query: \n",
      "\n",
      "========\n",
      "query over product_name\n",
      "query type: 3\n",
      "number of conditions: 0\n",
      "========\n",
      "        \n",
      "original output was: 2442531, after applying DP: 2442531.483621194\n",
      "for query: \n",
      "\n",
      "========\n",
      "query over device_id\n",
      "query type: 3\n",
      "number of conditions: 0\n",
      "========\n",
      "        \n",
      "original output was: 2442531, after applying DP: 2442530.7599204564\n"
     ]
    }
   ],
   "source": [
    "# check DP output\n",
    "for out,orig_out,query in zip(output,original_output,queries):\n",
    "    print(f'for query: \\n{query}\\noriginal output was: {orig_out}, after applying DP: {out}')"
   ]
  },
  {
   "cell_type": "code",
   "execution_count": null,
   "id": "321fc6be",
   "metadata": {},
   "outputs": [],
   "source": []
  }
 ],
 "metadata": {
  "kernelspec": {
   "display_name": "Python 3 (ipykernel)",
   "language": "python",
   "name": "python3"
  },
  "language_info": {
   "codemirror_mode": {
    "name": "ipython",
    "version": 3
   },
   "file_extension": ".py",
   "mimetype": "text/x-python",
   "name": "python",
   "nbconvert_exporter": "python",
   "pygments_lexer": "ipython3",
   "version": "3.9.12"
  }
 },
 "nbformat": 4,
 "nbformat_minor": 5
}
